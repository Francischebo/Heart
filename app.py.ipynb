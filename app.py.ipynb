{
 "cells": [
  {
   "cell_type": "code",
   "execution_count": null,
   "id": "61dc247c",
   "metadata": {},
   "outputs": [
    {
     "name": "stdout",
     "output_type": "stream",
     "text": [
      " * Serving Flask app '__main__'\n",
      " * Debug mode: off\n"
     ]
    },
    {
     "name": "stderr",
     "output_type": "stream",
     "text": [
      "WARNING: This is a development server. Do not use it in a production deployment. Use a production WSGI server instead.\n",
      " * Running on http://127.0.0.1:5000\n",
      "Press CTRL+C to quit\n",
      "127.0.0.1 - - [07/Nov/2023 00:10:44] \"GET / HTTP/1.1\" 200 -\n",
      "127.0.0.1 - - [07/Nov/2023 00:10:44] \"GET /styles.css HTTP/1.1\" 404 -\n",
      "127.0.0.1 - - [07/Nov/2023 00:10:44] \"GET /Pictures/biking.png HTTP/1.1\" 404 -\n",
      "127.0.0.1 - - [07/Nov/2023 00:10:44] \"GET /Pictures/smoking.png HTTP/1.1\" 404 -\n",
      "127.0.0.1 - - [07/Nov/2023 00:10:44] \"GET /Pictures/heartdisease.png HTTP/1.1\" 404 -\n",
      "127.0.0.1 - - [07/Nov/2023 00:10:45] \"GET /favicon.ico HTTP/1.1\" 404 -\n",
      "C:\\Users\\Francis_I_Chebo\\anaconda3\\Lib\\site-packages\\sklearn\\base.py:464: UserWarning: X does not have valid feature names, but LinearRegression was fitted with feature names\n",
      "  warnings.warn(\n",
      "127.0.0.1 - - [07/Nov/2023 00:10:53] \"POST /predict HTTP/1.1\" 200 -\n",
      "127.0.0.1 - - [07/Nov/2023 00:10:53] \"GET /styles.css HTTP/1.1\" 404 -\n",
      "127.0.0.1 - - [07/Nov/2023 00:10:53] \"GET /Pictures/biking.png HTTP/1.1\" 404 -\n",
      "127.0.0.1 - - [07/Nov/2023 00:10:53] \"GET /Pictures/smoking.png HTTP/1.1\" 404 -\n",
      "127.0.0.1 - - [07/Nov/2023 00:10:53] \"GET /Pictures/heartdisease.png HTTP/1.1\" 404 -\n"
     ]
    }
   ],
   "source": [
    "import numpy as np\n",
    "from flask import Flask, request, render_template\n",
    "import pickle\n",
    "\n",
    "app = Flask(__name__)\n",
    "\n",
    "try:\n",
    "    # Load the machine learning model\n",
    "    with open('models/model.pkl', 'rb') as model_file:\n",
    "        model = pickle.load(model_file)\n",
    "except FileNotFoundError:\n",
    "    print(\"Model file not found.\")\n",
    "    model = None\n",
    "except Exception as e:\n",
    "    print(\"An error occurred while loading the model:\", str(e))\n",
    "    model = None\n",
    "\n",
    "@app.route('/')\n",
    "def home():\n",
    "    return render_template('index.html')\n",
    "\n",
    "@app.route('/predict', methods=['POST'])\n",
    "def predict():\n",
    "    if model is None:\n",
    "        return \"Model not available.\"\n",
    "\n",
    "    try:\n",
    "        int_features = [float(x) for x in request.form.values()]\n",
    "        \n",
    "        # Check if there are 2 features and add a default value (0) for the missing feature\n",
    "        if len(int_features) == 2:\n",
    "            int_features.append(0)  # Add a default value for the missing feature\n",
    "\n",
    "        features = [np.array(int_features)]\n",
    "        prediction = model.predict(features)\n",
    "        output = round(prediction[0], 2)\n",
    "        return render_template('index.html', prediction_text='Percent of population with heart disease is {}'.format(output))\n",
    "    except Exception as e:\n",
    "        return \"Prediction error: \" + str(e)\n",
    "\n",
    "\n",
    "if __name__ == \"__main__\":\n",
    "    app.run()\n"
   ]
  },
  {
   "cell_type": "code",
   "execution_count": null,
   "id": "1d8db371",
   "metadata": {},
   "outputs": [],
   "source": []
  },
  {
   "cell_type": "code",
   "execution_count": null,
   "id": "247af275",
   "metadata": {},
   "outputs": [],
   "source": []
  }
 ],
 "metadata": {
  "kernelspec": {
   "display_name": "Python 3 (ipykernel)",
   "language": "python",
   "name": "python3"
  },
  "language_info": {
   "codemirror_mode": {
    "name": "ipython",
    "version": 3
   },
   "file_extension": ".py",
   "mimetype": "text/x-python",
   "name": "python",
   "nbconvert_exporter": "python",
   "pygments_lexer": "ipython3",
   "version": "3.11.5"
  }
 },
 "nbformat": 4,
 "nbformat_minor": 5
}
